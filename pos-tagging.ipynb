{
 "cells": [
  {
   "cell_type": "code",
   "execution_count": 1,
   "metadata": {},
   "outputs": [],
   "source": [
    "import numpy as np\n",
    "from sklearn.model_selection import train_test_split\n",
    "import nltk\n",
    "from nltk.corpus import treebank\n",
    "import tensorflow as tf\n",
    "import matplotlib.pyplot as plt\n",
    "from tensorflow.keras import Sequential\n",
    "from tensorflow.keras.layers import Embedding, Dense, Bidirectional, SimpleRNN, LSTM, GRU, Activation, Dropout"
   ]
  },
  {
   "cell_type": "code",
   "execution_count": 2,
   "metadata": {},
   "outputs": [],
   "source": [
    "sentences = treebank.tagged_sents(tagset='universal')\n",
    "\n",
    "examples = []\n",
    "labels = []\n",
    "vocab = set([])\n",
    "pos = set([])\n",
    "maxLength = 0\n",
    "argmaxLength = 0\n",
    "\n",
    "for sentence in sentences:\n",
    "    \n",
    "    if maxLength<len(sentence):\n",
    "        maxLength = len(sentence)\n",
    "        argmaxLength = sentence\n",
    "    example = []\n",
    "    label = []\n",
    "    for unit in sentence:\n",
    "        word = unit[0].lower()\n",
    "        example.append(word)\n",
    "        label.append(unit[1])\n",
    "        vocab.add(word)\n",
    "        pos.add(unit[1])\n",
    "    examples.append(example)\n",
    "    labels.append(label)"
   ]
  },
  {
   "cell_type": "code",
   "execution_count": 3,
   "metadata": {},
   "outputs": [],
   "source": [
    "input_tokenizer = tf.keras.preprocessing.text.Tokenizer(filters='')\n",
    "input_tokenizer.fit_on_texts(examples)\n",
    "input_tensor = input_tokenizer.texts_to_sequences(examples)\n",
    "input_tensor = tf.keras.preprocessing.sequence.pad_sequences(input_tensor,padding='post')\n",
    "\n",
    "pos_tokenizer = tf.keras.preprocessing.text.Tokenizer(filters='')\n",
    "pos_tokenizer.fit_on_texts(labels)\n",
    "pos_tensor = pos_tokenizer.texts_to_sequences(labels)\n",
    "pos_tensor = tf.keras.preprocessing.sequence.pad_sequences(pos_tensor,padding='post')\n",
    "\n",
    "input_train,input_val,output_train, output_val = train_test_split(input_tensor,\n",
    "                                                                  pos_tensor,test_size=0.2, \n",
    "                                                                  random_state=123)"
   ]
  },
  {
   "cell_type": "code",
   "execution_count": 8,
   "metadata": {},
   "outputs": [],
   "source": [
    "BATCH_SIZE = 128\n",
    "embedding_dim = 50\n",
    "\n",
    "BUFFER_SIZE = len(input_train)\n",
    "steps_per_epoch = len(input_train)//BATCH_SIZE\n",
    "vocab_inp_size = len(vocab)+1\n",
    "vocab_tar_size = len(pos)+1\n",
    "val_steps = len(input_val)//BATCH_SIZE\n",
    "\n",
    "train_dataset = tf.data.Dataset.from_tensor_slices((input_train, output_train)).shuffle(BUFFER_SIZE)\n",
    "train_dataset = train_dataset.batch(BATCH_SIZE, drop_remainder=True)\n",
    "val_dataset = tf.data.Dataset.from_tensor_slices((input_val, output_val)).shuffle(BUFFER_SIZE)\n",
    "val_dataset = val_dataset.batch(BATCH_SIZE, drop_remainder=True)"
   ]
  },
  {
   "cell_type": "code",
   "execution_count": 18,
   "metadata": {},
   "outputs": [
    {
     "name": "stdout",
     "output_type": "stream",
     "text": [
      "Model: \"sequential_4\"\n",
      "_________________________________________________________________\n",
      "Layer (type)                 Output Shape              Param #   \n",
      "=================================================================\n",
      "embedding (Embedding)        (None, 271, 50)           569400    \n",
      "_________________________________________________________________\n",
      "bidirectional (Bidirectional (None, 271, 128)          44544     \n",
      "_________________________________________________________________\n",
      "dense_4 (Dense)              (None, 271, 13)           1677      \n",
      "=================================================================\n",
      "Total params: 615,621\n",
      "Trainable params: 615,621\n",
      "Non-trainable params: 0\n",
      "_________________________________________________________________\n"
     ]
    }
   ],
   "source": [
    "# SIMPLE RNN\n",
    "# model = Sequential([Embedding(vocab_inp_size, embedding_dim,input_length = input_train.shape[1], name=\"embedding\"),\n",
    "#                     SimpleRNN(64,return_sequences=True),\n",
    "#                     Dense(vocab_tar_size, activation='softmax')])\n",
    "\n",
    "\n",
    "# GRU\n",
    "# model = Sequential([Embedding(vocab_inp_size, embedding_dim,input_length = input_train.shape[1], name=\"embedding\"),\n",
    "#                     GRU(64, return_sequences=True),\n",
    "#                     Dense(vocab_tar_size, activation='softmax')])\n",
    "\n",
    "# BIDIRECTIONAL GRU\n",
    "model = Sequential([Embedding(vocab_inp_size, embedding_dim,input_length = input_train.shape[1], name=\"embedding\"),\n",
    "                    Bidirectional(GRU(64, return_sequences=True)),\n",
    "                    Dense(vocab_tar_size, activation='softmax')])\n",
    "\n",
    "\n",
    "model.compile(loss='sparse_categorical_crossentropy',\n",
    "              optimizer=tf.keras.optimizers.Adam(1e-3),\n",
    "              metrics=['accuracy'])\n",
    "\n",
    "model.summary()"
   ]
  },
  {
   "cell_type": "code",
   "execution_count": 19,
   "metadata": {},
   "outputs": [
    {
     "name": "stdout",
     "output_type": "stream",
     "text": [
      "Epoch 1/10\n",
      "24/24 [==============================] - 14s 569ms/step - loss: 1.6473 - accuracy: 0.8681 - val_loss: 0.3169 - val_accuracy: 0.9064\n",
      "Epoch 2/10\n",
      "24/24 [==============================] - 13s 557ms/step - loss: 0.2975 - accuracy: 0.9087 - val_loss: 0.2414 - val_accuracy: 0.9260\n",
      "Epoch 3/10\n",
      "24/24 [==============================] - 15s 639ms/step - loss: 0.2402 - accuracy: 0.9308 - val_loss: 0.2341 - val_accuracy: 0.9323\n",
      "Epoch 4/10\n",
      "24/24 [==============================] - 15s 639ms/step - loss: 0.2337 - accuracy: 0.9311 - val_loss: 0.2273 - val_accuracy: 0.9313\n",
      "Epoch 5/10\n",
      "24/24 [==============================] - 17s 698ms/step - loss: 0.2250 - accuracy: 0.9313 - val_loss: 0.2168 - val_accuracy: 0.9324\n",
      "Epoch 6/10\n",
      "24/24 [==============================] - 22s 924ms/step - loss: 0.2123 - accuracy: 0.9319 - val_loss: 0.2046 - val_accuracy: 0.9330\n",
      "Epoch 7/10\n",
      "24/24 [==============================] - 19s 811ms/step - loss: 0.2010 - accuracy: 0.9336 - val_loss: 0.1951 - val_accuracy: 0.9360\n",
      "Epoch 8/10\n",
      "24/24 [==============================] - 15s 637ms/step - loss: 0.1909 - accuracy: 0.9358 - val_loss: 0.1841 - val_accuracy: 0.9369\n",
      "Epoch 9/10\n",
      "24/24 [==============================] - 16s 667ms/step - loss: 0.1772 - accuracy: 0.9377 - val_loss: 0.1690 - val_accuracy: 0.9406\n",
      "Epoch 10/10\n",
      "24/24 [==============================] - 17s 714ms/step - loss: 0.1591 - accuracy: 0.9454 - val_loss: 0.1497 - val_accuracy: 0.9570\n"
     ]
    }
   ],
   "source": [
    "history = model.fit(train_dataset,epochs=10,validation_data=val_dataset,validation_steps=val_steps)"
   ]
  },
  {
   "cell_type": "code",
   "execution_count": null,
   "metadata": {},
   "outputs": [],
   "source": [
    "loss, accuracy = model.evaluate(val_dataset, verbose = 1)\n",
    "print(“Loss: {0},\\nAccuracy: {1}”.format(loss, accuracy))"
   ]
  },
  {
   "cell_type": "code",
   "execution_count": 14,
   "metadata": {},
   "outputs": [
    {
     "data": {
      "image/png": "[encoded data removed]",
      "text/plain": [
       "<Figure size 432x288 with 1 Axes>"
      ]
     },
     "metadata": {
      "needs_background": "light"
     },
     "output_type": "display_data"
    },
    {
     "data": {
      "image/png": "[encoded data removed]",
      "text/plain": [
       "<Figure size 432x288 with 1 Axes>"
      ]
     },
     "metadata": {
      "needs_background": "light"
     },
     "output_type": "display_data"
    }
   ],
   "source": [
    "plt.plot(history.history['accuracy'])\n",
    "plt.plot(history.history['val_accuracy'])\n",
    "plt.ylabel('Accuracy')\n",
    "plt.xlabel('Epochs')\n",
    "plt.legend(['Train', 'Val'])\n",
    "plt.show()\n",
    "\n",
    "# summarize history for loss\n",
    "plt.plot(history.history['loss'])\n",
    "plt.plot(history.history['val_loss'])\n",
    "\n",
    "plt.ylabel('Loss')\n",
    "plt.xlabel('Epochs')\n",
    "plt.legend(['Train', 'Val'])\n",
    "plt.show()"
   ]
  },
  {
   "cell_type": "code",
   "execution_count": null,
   "metadata": {},
   "outputs": [],
   "source": []
  }
 ],
 "metadata": {
  "@webio": {
   "lastCommId": null,
   "lastKernelId": null
  },
  "kernelspec": {
   "display_name": "Python 3",
   "language": "python",
   "name": "python3"
  },
  "language_info": {
   "codemirror_mode": {
    "name": "ipython",
    "version": 3
   },
   "file_extension": ".py",
   "mimetype": "text/x-python",
   "name": "python",
   "nbconvert_exporter": "python",
   "pygments_lexer": "ipython3",
   "version": "3.7.7"
  }
 },
 "nbformat": 4,
 "nbformat_minor": 4
}
